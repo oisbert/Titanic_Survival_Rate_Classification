{
  "cells": [
    {
      "cell_type": "markdown",
      "metadata": {
        "id": "AFdg4Y8b9lmu"
      },
      "source": [
        "Team Members:\n",
        "Arnas Juravicius - 18257305\n",
        "Oisin McNamara - 18237398"
      ]
    },
    {
      "cell_type": "markdown",
      "metadata": {
        "id": "dl0tB52L9zAp"
      },
      "source": [
        "The code executes without error"
      ]
    },
    {
      "cell_type": "markdown",
      "metadata": {
        "id": "C6n4170g925R"
      },
      "source": [
        "Sourses used to implement MLP:\n",
        "\n",
        "https://www.kaggle.com/williamaung/titanicml\n",
        "\n",
        "https://www.bmc.com/blogs/keras-neural-network-classification/\n",
        "\n",
        "https://medium.datadriveninvestor.com/implementation-of-data-preprocessing-on-titanic-dataset-6c553bef0bc6\n",
        "\n",
        "https://medium.com/@mukundsharma1995/working-with-titanic-dataset-using-keras-solving-a-simple-classification-problem-440e3860e8fd\n",
        "\n",
        "https://machinelearningmastery.com/how-to-stop-training-deep-neural-networks-at-the-right-time-using-early-stopping/"
      ]
    },
    {
      "cell_type": "code",
      "execution_count": 893,
      "metadata": {
        "colab": {
          "base_uri": "https://localhost:8080/"
        },
        "id": "u_9N9freYt2x",
        "outputId": "3da0b543-dc78-4b3c-d890-8ea01c591f0e"
      },
      "outputs": [
        {
          "name": "stdout",
          "output_type": "stream",
          "text": [
            "Requirement already satisfied: category_encoders in /usr/local/lib/python3.7/dist-packages (2.3.0)\n",
            "Requirement already satisfied: statsmodels>=0.9.0 in /usr/local/lib/python3.7/dist-packages (from category_encoders) (0.10.2)\n",
            "Requirement already satisfied: scikit-learn>=0.20.0 in /usr/local/lib/python3.7/dist-packages (from category_encoders) (0.22.2.post1)\n",
            "Requirement already satisfied: patsy>=0.5.1 in /usr/local/lib/python3.7/dist-packages (from category_encoders) (0.5.2)\n",
            "Requirement already satisfied: numpy>=1.14.0 in /usr/local/lib/python3.7/dist-packages (from category_encoders) (1.19.5)\n",
            "Requirement already satisfied: pandas>=0.21.1 in /usr/local/lib/python3.7/dist-packages (from category_encoders) (1.1.5)\n",
            "Requirement already satisfied: scipy>=1.0.0 in /usr/local/lib/python3.7/dist-packages (from category_encoders) (1.4.1)\n",
            "Requirement already satisfied: python-dateutil>=2.7.3 in /usr/local/lib/python3.7/dist-packages (from pandas>=0.21.1->category_encoders) (2.8.2)\n",
            "Requirement already satisfied: pytz>=2017.2 in /usr/local/lib/python3.7/dist-packages (from pandas>=0.21.1->category_encoders) (2018.9)\n",
            "Requirement already satisfied: six in /usr/local/lib/python3.7/dist-packages (from patsy>=0.5.1->category_encoders) (1.15.0)\n",
            "Requirement already satisfied: joblib>=0.11 in /usr/local/lib/python3.7/dist-packages (from scikit-learn>=0.20.0->category_encoders) (1.0.1)\n"
          ]
        }
      ],
      "source": [
        "!pip install --upgrade category_encoders"
      ]
    },
    {
      "cell_type": "code",
      "execution_count": 894,
      "metadata": {
        "id": "2exKHpLs2aiw"
      },
      "outputs": [],
      "source": [
        "# Loading libraries\n",
        "import numpy as np\n",
        "import pandas as pd"
      ]
    },
    {
      "cell_type": "code",
      "execution_count": 895,
      "metadata": {
        "id": "1Tz1IO8U2wTe"
      },
      "outputs": [],
      "source": [
        "# Multilayer perceptron Neural Network using the Keras Library\n",
        "from tensorflow.keras.optimizers import Adam\n",
        "from keras.models import Sequential, load_model\n",
        "from keras.layers import Dense, Dropout\n",
        "from keras.utils import np_utils\n",
        "from sklearn.model_selection import train_test_split\n",
        "from sklearn.preprocessing import MinMaxScaler\n",
        "import category_encoders as ce\n",
        "import matplotlib.pyplot as plt\n",
        "import seaborn as sns\n",
        "from sklearn.metrics import accuracy_score, confusion_matrix, precision_score, recall_score\n",
        "from sklearn.ensemble import GradientBoostingClassifier\n",
        "from tensorflow.keras.callbacks import ModelCheckpoint, EarlyStopping"
      ]
    },
    {
      "cell_type": "markdown",
      "metadata": {
        "id": "hgneNJgLSXv6"
      },
      "source": [
        "# Data Exploration"
      ]
    },
    {
      "cell_type": "code",
      "execution_count": 896,
      "metadata": {
        "colab": {
          "base_uri": "https://localhost:8080/",
          "height": 203
        },
        "id": "X7G3m0Ek24sG",
        "outputId": "a517d49c-64a4-4aef-e9e3-063d4001ae25"
      },
      "outputs": [
        {
          "data": {
            "text/html": [
              "<div>\n",
              "<style scoped>\n",
              "    .dataframe tbody tr th:only-of-type {\n",
              "        vertical-align: middle;\n",
              "    }\n",
              "\n",
              "    .dataframe tbody tr th {\n",
              "        vertical-align: top;\n",
              "    }\n",
              "\n",
              "    .dataframe thead th {\n",
              "        text-align: right;\n",
              "    }\n",
              "</style>\n",
              "<table border=\"1\" class=\"dataframe\">\n",
              "  <thead>\n",
              "    <tr style=\"text-align: right;\">\n",
              "      <th></th>\n",
              "      <th>PassengerId</th>\n",
              "      <th>Survived</th>\n",
              "    </tr>\n",
              "  </thead>\n",
              "  <tbody>\n",
              "    <tr>\n",
              "      <th>0</th>\n",
              "      <td>1</td>\n",
              "      <td>0</td>\n",
              "    </tr>\n",
              "    <tr>\n",
              "      <th>1</th>\n",
              "      <td>2</td>\n",
              "      <td>1</td>\n",
              "    </tr>\n",
              "    <tr>\n",
              "      <th>2</th>\n",
              "      <td>3</td>\n",
              "      <td>1</td>\n",
              "    </tr>\n",
              "    <tr>\n",
              "      <th>3</th>\n",
              "      <td>4</td>\n",
              "      <td>1</td>\n",
              "    </tr>\n",
              "    <tr>\n",
              "      <th>4</th>\n",
              "      <td>5</td>\n",
              "      <td>0</td>\n",
              "    </tr>\n",
              "  </tbody>\n",
              "</table>\n",
              "</div>"
            ],
            "text/plain": [
              "   PassengerId  Survived\n",
              "0            1         0\n",
              "1            2         1\n",
              "2            3         1\n",
              "3            4         1\n",
              "4            5         0"
            ]
          },
          "execution_count": 896,
          "metadata": {},
          "output_type": "execute_result"
        }
      ],
      "source": [
        "# Importing data\n",
        "# Loads the train and test\n",
        "train_data = pd.read_csv('train.csv')\n",
        "test_data = pd.read_csv('test.csv')\n",
        "\n",
        "# Create a validation set used to compare our model prediction.\n",
        "data_check = train_data.drop([\"Name\", \"Ticket\", \"Cabin\", \"Parch\",\"Embarked\", \"Fare\",\"SibSp\",\"Pclass\",\"Sex\",\"Age\"],axis=1)\n",
        "# We then inspect that table\n",
        "data_check.head()"
      ]
    },
    {
      "cell_type": "code",
      "execution_count": 897,
      "metadata": {
        "colab": {
          "base_uri": "https://localhost:8080/",
          "height": 351
        },
        "id": "iok7ui5cGhQC",
        "outputId": "a810ff64-fb05-4ed3-d173-5215e5c8372e"
      },
      "outputs": [
        {
          "data": {
            "text/plain": [
              "<matplotlib.axes._subplots.AxesSubplot at 0x7ff278f87390>"
            ]
          },
          "execution_count": 897,
          "metadata": {},
          "output_type": "execute_result"
        },
        {
          "data": {
            "image/png": "[encoded data removed]",
            "text/plain": [
              "<Figure size 576x360 with 1 Axes>"
            ]
          },
          "metadata": {
            "needs_background": "light"
          },
          "output_type": "display_data"
        }
      ],
      "source": [
        "# We then plot the survival rate of the whole data set, 0 means they didn't survive, 1 means they did\n",
        "plt.figure(figsize=(8,5))\n",
        "sns.countplot(x='Survived', data= train_data)"
      ]
    },
    {
      "cell_type": "code",
      "execution_count": 898,
      "metadata": {
        "colab": {
          "base_uri": "https://localhost:8080/",
          "height": 351
        },
        "id": "Uqv997QEVEfO",
        "outputId": "cf961734-88b9-499a-f3ae-65bb4a034c64"
      },
      "outputs": [
        {
          "data": {
            "text/plain": [
              "<matplotlib.axes._subplots.AxesSubplot at 0x7ff26f9a6a90>"
            ]
          },
          "execution_count": 898,
          "metadata": {},
          "output_type": "execute_result"
        },
        {
          "data": {
            "image/png": "[encoded data removed]",
            "text/plain": [
              "<Figure size 576x360 with 1 Axes>"
            ]
          },
          "metadata": {
            "needs_background": "light"
          },
          "output_type": "display_data"
        }
      ],
      "source": [
        "# We then plot the survival rate of men and women\n",
        "plt.figure(figsize=(8,5))\n",
        "sns.countplot(x='Survived', hue='Sex', data= train_data)"
      ]
    },
    {
      "cell_type": "code",
      "execution_count": 899,
      "metadata": {
        "colab": {
          "base_uri": "https://localhost:8080/",
          "height": 351
        },
        "id": "vCocGR8zU8z8",
        "outputId": "e9bf4c34-05a5-4b9d-dcdd-64d71424c9ef"
      },
      "outputs": [
        {
          "data": {
            "text/plain": [
              "<matplotlib.axes._subplots.AxesSubplot at 0x7ff27bddc210>"
            ]
          },
          "execution_count": 899,
          "metadata": {},
          "output_type": "execute_result"
        },
        {
          "data": {
            "image/png": "[encoded data removed]",
            "text/plain": [
              "<Figure size 576x360 with 1 Axes>"
            ]
          },
          "metadata": {
            "needs_background": "light"
          },
          "output_type": "display_data"
        }
      ],
      "source": [
        "plt.figure(figsize=(8,5))\n",
        "# This plots the survival rate of the passenger classes\n",
        "sns.countplot(x='Survived', hue='Pclass', data= train_data)"
      ]
    },
    {
      "cell_type": "code",
      "execution_count": 900,
      "metadata": {
        "colab": {
          "base_uri": "https://localhost:8080/",
          "height": 296
        },
        "id": "cN0E8ynjHjci",
        "outputId": "6ee4a0fa-736c-42b4-d1a4-225295a017d5"
      },
      "outputs": [
        {
          "data": {
            "text/plain": [
              "<matplotlib.axes._subplots.AxesSubplot at 0x7ff26e921a10>"
            ]
          },
          "execution_count": 900,
          "metadata": {},
          "output_type": "execute_result"
        },
        {
          "data": {
            "image/png": "[encoded data removed]",
            "text/plain": [
              "<Figure size 432x288 with 1 Axes>"
            ]
          },
          "metadata": {
            "needs_background": "light"
          },
          "output_type": "display_data"
        }
      ],
      "source": [
        "# Method to convert ages to an adult or a child\n",
        "def titanic_children(passenger):\n",
        "    \n",
        "    age , sex = passenger\n",
        "    if age <16:\n",
        "        return 'child'\n",
        "    else:\n",
        "        return sex\n",
        "\n",
        "# We want to plot the data on who survived out of a male, female and a child\n",
        "train_data['Person'] = train_data[['Age','Sex']].apply(titanic_children,axis=1)\n",
        "sns.countplot(x='Survived', hue='Person', data= train_data)"
      ]
    },
    {
      "cell_type": "code",
      "execution_count": 901,
      "metadata": {
        "colab": {
          "base_uri": "https://localhost:8080/",
          "height": 473
        },
        "id": "Piv7BslvIudo",
        "outputId": "0719cc37-7f95-473c-ab5d-5c5f307a1293"
      },
      "outputs": [
        {
          "name": "stderr",
          "output_type": "stream",
          "text": [
            "/usr/local/lib/python3.7/dist-packages/seaborn/categorical.py:3717: UserWarning: The `factorplot` function has been renamed to `catplot`. The original name will be removed in a future release. Please update your code. Note that the default `kind` in `factorplot` (`'point'`) has changed `'strip'` in `catplot`.\n",
            "  warnings.warn(msg)\n",
            "/usr/local/lib/python3.7/dist-packages/seaborn/_decorators.py:43: FutureWarning: Pass the following variables as keyword args: x, y. From version 0.12, the only valid positional argument will be `data`, and passing other arguments without an explicit keyword will result in an error or misinterpretation.\n",
            "  FutureWarning\n"
          ]
        },
        {
          "data": {
            "text/plain": [
              "<seaborn.axisgrid.FacetGrid at 0x7ff275f88690>"
            ]
          },
          "execution_count": 901,
          "metadata": {},
          "output_type": "execute_result"
        },
        {
          "data": {
            "image/png": "[encoded data removed]",
            "text/plain": [
              "<Figure size 430.5x360 with 1 Axes>"
            ]
          },
          "metadata": {
            "needs_background": "light"
          },
          "output_type": "display_data"
        }
      ],
      "source": [
        "# Plots the survival of male, female and child out of the different passenger classes\n",
        "sns.factorplot('Pclass','Survived', data=train_data, hue='Person')"
      ]
    },
    {
      "cell_type": "code",
      "execution_count": 902,
      "metadata": {
        "colab": {
          "base_uri": "https://localhost:8080/",
          "height": 282
        },
        "id": "r5mSPNIrIa1c",
        "outputId": "5cc9dfd4-38be-4485-d532-eeb442caa9bb"
      },
      "outputs": [
        {
          "data": {
            "text/plain": [
              "<matplotlib.axes._subplots.AxesSubplot at 0x7ff26e7c83d0>"
            ]
          },
          "execution_count": 902,
          "metadata": {},
          "output_type": "execute_result"
        },
        {
          "data": {
            "image/png": "[encoded data removed]",
            "text/plain": [
              "<Figure size 432x288 with 1 Axes>"
            ]
          },
          "metadata": {
            "needs_background": "light"
          },
          "output_type": "display_data"
        }
      ],
      "source": [
        "# A histogram plotting the ages of the dataset\n",
        "train_data['Age'].hist(bins=70)"
      ]
    },
    {
      "cell_type": "code",
      "execution_count": 903,
      "metadata": {
        "colab": {
          "base_uri": "https://localhost:8080/",
          "height": 337
        },
        "id": "h9xS1jAPJ8PI",
        "outputId": "de99df4c-4da4-4e58-ce2f-f46f74c45752"
      },
      "outputs": [
        {
          "data": {
            "text/plain": [
              "<matplotlib.axes._subplots.AxesSubplot at 0x7ff26e7a4390>"
            ]
          },
          "execution_count": 903,
          "metadata": {},
          "output_type": "execute_result"
        },
        {
          "data": {
            "image/png": "[encoded data removed]",
            "text/plain": [
              "<Figure size 432x288 with 2 Axes>"
            ]
          },
          "metadata": {
            "needs_background": "light"
          },
          "output_type": "display_data"
        }
      ],
      "source": [
        "# Shows us the correlation of the data\n",
        "corr = train_data.corr()\n",
        "sns.heatmap(corr, \n",
        "            xticklabels=corr.columns.values,\n",
        "            yticklabels=corr.columns.values)"
      ]
    },
    {
      "cell_type": "code",
      "execution_count": 904,
      "metadata": {
        "colab": {
          "base_uri": "https://localhost:8080/",
          "height": 203
        },
        "id": "UIZHWC_RNtKW",
        "outputId": "04bd49b5-082b-41c7-a200-d9eff36bd655"
      },
      "outputs": [
        {
          "data": {
            "text/html": [
              "<div>\n",
              "<style scoped>\n",
              "    .dataframe tbody tr th:only-of-type {\n",
              "        vertical-align: middle;\n",
              "    }\n",
              "\n",
              "    .dataframe tbody tr th {\n",
              "        vertical-align: top;\n",
              "    }\n",
              "\n",
              "    .dataframe thead th {\n",
              "        text-align: right;\n",
              "    }\n",
              "</style>\n",
              "<table border=\"1\" class=\"dataframe\">\n",
              "  <thead>\n",
              "    <tr style=\"text-align: right;\">\n",
              "      <th></th>\n",
              "      <th>PassengerId</th>\n",
              "      <th>Survived</th>\n",
              "      <th>Pclass</th>\n",
              "      <th>Name</th>\n",
              "      <th>Sex</th>\n",
              "      <th>Age</th>\n",
              "      <th>SibSp</th>\n",
              "      <th>Parch</th>\n",
              "      <th>Ticket</th>\n",
              "      <th>Fare</th>\n",
              "      <th>Cabin</th>\n",
              "      <th>Embarked</th>\n",
              "      <th>Person</th>\n",
              "    </tr>\n",
              "  </thead>\n",
              "  <tbody>\n",
              "    <tr>\n",
              "      <th>0</th>\n",
              "      <td>1</td>\n",
              "      <td>0</td>\n",
              "      <td>3</td>\n",
              "      <td>Braund, Mr. Owen Harris</td>\n",
              "      <td>male</td>\n",
              "      <td>22.0</td>\n",
              "      <td>1</td>\n",
              "      <td>0</td>\n",
              "      <td>A/5 21171</td>\n",
              "      <td>7.2500</td>\n",
              "      <td>NaN</td>\n",
              "      <td>S</td>\n",
              "      <td>male</td>\n",
              "    </tr>\n",
              "    <tr>\n",
              "      <th>1</th>\n",
              "      <td>2</td>\n",
              "      <td>1</td>\n",
              "      <td>1</td>\n",
              "      <td>Cumings, Mrs. John Bradley (Florence Briggs Th...</td>\n",
              "      <td>female</td>\n",
              "      <td>38.0</td>\n",
              "      <td>1</td>\n",
              "      <td>0</td>\n",
              "      <td>PC 17599</td>\n",
              "      <td>71.2833</td>\n",
              "      <td>C85</td>\n",
              "      <td>C</td>\n",
              "      <td>female</td>\n",
              "    </tr>\n",
              "    <tr>\n",
              "      <th>2</th>\n",
              "      <td>3</td>\n",
              "      <td>1</td>\n",
              "      <td>3</td>\n",
              "      <td>Heikkinen, Miss. Laina</td>\n",
              "      <td>female</td>\n",
              "      <td>26.0</td>\n",
              "      <td>0</td>\n",
              "      <td>0</td>\n",
              "      <td>STON/O2. 3101282</td>\n",
              "      <td>7.9250</td>\n",
              "      <td>NaN</td>\n",
              "      <td>S</td>\n",
              "      <td>female</td>\n",
              "    </tr>\n",
              "    <tr>\n",
              "      <th>3</th>\n",
              "      <td>4</td>\n",
              "      <td>1</td>\n",
              "      <td>1</td>\n",
              "      <td>Futrelle, Mrs. Jacques Heath (Lily May Peel)</td>\n",
              "      <td>female</td>\n",
              "      <td>35.0</td>\n",
              "      <td>1</td>\n",
              "      <td>0</td>\n",
              "      <td>113803</td>\n",
              "      <td>53.1000</td>\n",
              "      <td>C123</td>\n",
              "      <td>S</td>\n",
              "      <td>female</td>\n",
              "    </tr>\n",
              "    <tr>\n",
              "      <th>4</th>\n",
              "      <td>5</td>\n",
              "      <td>0</td>\n",
              "      <td>3</td>\n",
              "      <td>Allen, Mr. William Henry</td>\n",
              "      <td>male</td>\n",
              "      <td>35.0</td>\n",
              "      <td>0</td>\n",
              "      <td>0</td>\n",
              "      <td>373450</td>\n",
              "      <td>8.0500</td>\n",
              "      <td>NaN</td>\n",
              "      <td>S</td>\n",
              "      <td>male</td>\n",
              "    </tr>\n",
              "  </tbody>\n",
              "</table>\n",
              "</div>"
            ],
            "text/plain": [
              "   PassengerId  Survived  Pclass  ... Cabin Embarked  Person\n",
              "0            1         0       3  ...   NaN        S    male\n",
              "1            2         1       1  ...   C85        C  female\n",
              "2            3         1       3  ...   NaN        S  female\n",
              "3            4         1       1  ...  C123        S  female\n",
              "4            5         0       3  ...   NaN        S    male\n",
              "\n",
              "[5 rows x 13 columns]"
            ]
          },
          "execution_count": 904,
          "metadata": {},
          "output_type": "execute_result"
        }
      ],
      "source": [
        "# Explore the dataset\n",
        "train_data.head()"
      ]
    },
    {
      "cell_type": "markdown",
      "metadata": {
        "id": "wGL5NRlnS5TT"
      },
      "source": [
        "# Data cleaning/ Data preprocessing"
      ]
    },
    {
      "cell_type": "code",
      "execution_count": 905,
      "metadata": {
        "id": "2VmxAuD4ht1i"
      },
      "outputs": [],
      "source": [
        "# The cols that will drop from the dataframes\n",
        "cols = [\"Name\", \"Ticket\", \"Cabin\", \"Embarked\", \"Person\", \"Fare\"]\n",
        "# Drop the cols from the training_data, axis=1 means to drop labels from columns\n",
        "train_data = train_data.drop(cols, axis=1)"
      ]
    },
    {
      "cell_type": "code",
      "execution_count": 906,
      "metadata": {
        "colab": {
          "base_uri": "https://localhost:8080/"
        },
        "id": "OM0JH2NcifOI",
        "outputId": "fc9aaf20-738f-4334-f3f4-926b7fe46f1a"
      },
      "outputs": [
        {
          "name": "stdout",
          "output_type": "stream",
          "text": [
            "PassengerId    891\n",
            "Survived       891\n",
            "Pclass         891\n",
            "Sex            891\n",
            "Age            714\n",
            "SibSp          891\n",
            "Parch          891\n",
            "dtype: int64\n",
            "PassengerId    891\n",
            "Survived       891\n",
            "Pclass         891\n",
            "Sex            891\n",
            "Age            891\n",
            "SibSp          891\n",
            "Parch          891\n",
            "dtype: int64\n"
          ]
        }
      ],
      "source": [
        "\n",
        "# It drops all rows that has missing data or NaN values.\n",
        "# We first print out the dataframe to compare the size of dataframe\n",
        "# after dropping NaN\n",
        "# This should return 891 entries, with only 712 entries for the age, we need to fill these entries\n",
        "# With the average age of the rest of the rows\n",
        "print(train_data.count())\n",
        "# We get the mean and fill the rest of the rows to keep all 891 entries\n",
        "train_data[\"Age\"].fillna(train_data[\"Age\"].mean(), inplace=True)\n",
        "# Drops the NaN values\n",
        "train_data = train_data.dropna()\n",
        "# After dropping NaN values, we should still have 891\n",
        "print(train_data.count())\n"
      ]
    },
    {
      "cell_type": "code",
      "execution_count": 907,
      "metadata": {
        "colab": {
          "base_uri": "https://localhost:8080/"
        },
        "id": "AmskHD_wZROX",
        "outputId": "44d60883-d1e5-4a5f-fd99-0a54c43f2ba7"
      },
      "outputs": [
        {
          "name": "stdout",
          "output_type": "stream",
          "text": [
            "   PassengerId  Survived  Pclass  Sex   Age  SibSp  Parch\n",
            "0            1         0       3    0  22.0      1      0\n",
            "1            2         1       1    1  38.0      1      0\n",
            "2            3         1       3    1  26.0      0      0\n",
            "3            4         1       1    1  35.0      1      0\n",
            "4            5         0       3    0  35.0      0      0\n"
          ]
        }
      ],
      "source": [
        "# The encoder maps Sex col from male and female to 0 1 respectively. This is so we can\n",
        "# Use the scaler on our data\n",
        "encoder= ce.OrdinalEncoder(cols=['Sex'],return_df=True, mapping=[{'col':'Sex','mapping':{'male':0,'female':1}}])\n",
        "# Transform the training and test data\n",
        "train_data = encoder.fit_transform(train_data)\n",
        "test_data = encoder.fit_transform(test_data)\n",
        "# Print the train data to ensure the conversion has happened\n",
        "print(train_data.head())"
      ]
    },
    {
      "cell_type": "code",
      "execution_count": 908,
      "metadata": {
        "id": "a3JxKTnbmQ5h"
      },
      "outputs": [],
      "source": [
        "# X is converted from panadas dataframe to numpy so we can use it in the model\n",
        "x = train_data.values\n",
        "# Y is a small output of x that is only the survived column\n",
        "y = train_data['Survived'].values\n",
        "# we delete the column Survived from training data\n",
        "x = np.delete(x, 1, axis=1)"
      ]
    },
    {
      "cell_type": "code",
      "execution_count": 909,
      "metadata": {
        "id": "QZ4QUtKWqPkj"
      },
      "outputs": [],
      "source": [
        "# Create tests and train sets using the sklearn train_test_split giving training set 70% of the data\n",
        "X_train, X_test, Y_train, Y_test = train_test_split(x, y, test_size=0.3, random_state=0)"
      ]
    },
    {
      "cell_type": "markdown",
      "metadata": {
        "id": "I-m5N3uyTEJI"
      },
      "source": [
        "# Normalization"
      ]
    },
    {
      "cell_type": "code",
      "execution_count": 910,
      "metadata": {
        "colab": {
          "base_uri": "https://localhost:8080/"
        },
        "id": "84GwsuMjrenl",
        "outputId": "d5405e22-3579-4245-b384-f8cc2a7bc62f"
      },
      "outputs": [
        {
          "name": "stdout",
          "output_type": "stream",
          "text": [
            "[[0.9640045  0.         0.         0.63443842 0.         0.        ]\n",
            " [0.05849269 0.         1.         0.60922728 0.125      0.        ]\n",
            " [0.43419573 1.         0.         0.00415984 0.625      0.33333333]\n",
            " ...\n",
            " [0.70753656 1.         0.         0.36592862 0.         0.        ]\n",
            " [0.6287964  1.         1.         0.44535485 0.125      0.        ]\n",
            " [0.76940382 0.5        0.         0.74788857 0.125      0.16666667]]\n"
          ]
        }
      ],
      "source": [
        "# We normalize the values. The scaler returns a value between 0 and 1\n",
        "# First we create the scaler and fit the training data\n",
        "scaler = MinMaxScaler(feature_range = (0,1))\n",
        "#We then transform the training and test data\n",
        "scaler.fit(X_train)\n",
        "X_train = scaler.transform(X_train)\n",
        "scaler.fit(X_test)\n",
        "X_test = scaler.transform(X_test)\n",
        "print(X_train)"
      ]
    },
    {
      "cell_type": "markdown",
      "metadata": {
        "id": "JJl24UtXTI77"
      },
      "source": [
        "# Machine learning model"
      ]
    },
    {
      "cell_type": "code",
      "execution_count": 911,
      "metadata": {
        "id": "1FbaV9wI3K1r"
      },
      "outputs": [],
      "source": [
        "# Method to create the MLP model\n",
        "def mlp_model():\n",
        "\t# Optimizer initialization\n",
        "\toptimizer = Adam(learning_rate = 0.01)\n",
        "\t# create a feedforward model\n",
        "\tmodel = Sequential()\n",
        "\t# Add an input layer of 6 nodes with relu as the activation function\n",
        "\tmodel.add(Dense(6, input_dim=6, activation='relu', kernel_initializer=\"he_normal\"))\n",
        "\t# Add a second layer to the mlp with same activation function\n",
        "\tmodel.add(Dense(12, activation='relu'))\n",
        "\t# Add a final layer to the mlp with a sigmoid activation function\n",
        "\tmodel.add(Dense(1, activation='sigmoid'))\n",
        "\t# Compile model using binary_crossentropy as the loss function, we use Adam\n",
        "\t# as the optimiser, metrics will show how accurately the model predicts the outcome\n",
        "\tmodel.compile(loss='mean_squared_logarithmic_error', optimizer=optimizer, metrics=['accuracy'])\n",
        "\t# Finally we return the model\n",
        "\treturn model"
      ]
    },
    {
      "cell_type": "code",
      "execution_count": 912,
      "metadata": {
        "colab": {
          "base_uri": "https://localhost:8080/"
        },
        "id": "EppQr8SS3OBP",
        "outputId": "c720d040-9064-4528-bd88-947443b1a84a"
      },
      "outputs": [
        {
          "name": "stdout",
          "output_type": "stream",
          "text": [
            "Epoch 1/30\n",
            "63/63 [==============================] - 1s 4ms/step - loss: 0.0949 - accuracy: 0.6982 - val_loss: 0.0692 - val_accuracy: 0.7910\n",
            "\n",
            "Epoch 00001: val_accuracy did not improve from 0.82463\n",
            "Epoch 2/30\n",
            "63/63 [==============================] - 0s 3ms/step - loss: 0.0716 - accuracy: 0.7897 - val_loss: 0.0658 - val_accuracy: 0.7948\n",
            "\n",
            "Epoch 00002: val_accuracy did not improve from 0.82463\n",
            "Epoch 3/30\n",
            "63/63 [==============================] - 0s 2ms/step - loss: 0.0697 - accuracy: 0.8042 - val_loss: 0.0642 - val_accuracy: 0.8060\n",
            "\n",
            "Epoch 00003: val_accuracy did not improve from 0.82463\n",
            "Epoch 4/30\n",
            "63/63 [==============================] - 0s 3ms/step - loss: 0.0683 - accuracy: 0.7929 - val_loss: 0.0653 - val_accuracy: 0.8022\n",
            "\n",
            "Epoch 00004: val_accuracy did not improve from 0.82463\n",
            "Epoch 5/30\n",
            "63/63 [==============================] - 0s 2ms/step - loss: 0.0685 - accuracy: 0.7961 - val_loss: 0.0645 - val_accuracy: 0.7948\n",
            "\n",
            "Epoch 00005: val_accuracy did not improve from 0.82463\n",
            "Epoch 6/30\n",
            "63/63 [==============================] - 0s 2ms/step - loss: 0.0668 - accuracy: 0.8042 - val_loss: 0.0666 - val_accuracy: 0.7948\n",
            "\n",
            "Epoch 00006: val_accuracy did not improve from 0.82463\n",
            "Epoch 7/30\n",
            "63/63 [==============================] - 0s 2ms/step - loss: 0.0682 - accuracy: 0.7994 - val_loss: 0.0695 - val_accuracy: 0.8022\n",
            "\n",
            "Epoch 00007: val_accuracy did not improve from 0.82463\n",
            "Epoch 8/30\n",
            "63/63 [==============================] - 0s 3ms/step - loss: 0.0680 - accuracy: 0.7961 - val_loss: 0.0647 - val_accuracy: 0.8060\n",
            "\n",
            "Epoch 00008: val_accuracy did not improve from 0.82463\n",
            "Epoch 9/30\n",
            "63/63 [==============================] - 0s 2ms/step - loss: 0.0675 - accuracy: 0.8042 - val_loss: 0.0638 - val_accuracy: 0.8097\n",
            "\n",
            "Epoch 00009: val_accuracy did not improve from 0.82463\n",
            "Epoch 10/30\n",
            "63/63 [==============================] - 0s 2ms/step - loss: 0.0668 - accuracy: 0.7994 - val_loss: 0.0640 - val_accuracy: 0.7948\n",
            "\n",
            "Epoch 00010: val_accuracy did not improve from 0.82463\n",
            "Epoch 11/30\n",
            "63/63 [==============================] - 0s 2ms/step - loss: 0.0669 - accuracy: 0.8058 - val_loss: 0.0635 - val_accuracy: 0.8172\n",
            "\n",
            "Epoch 00011: val_accuracy did not improve from 0.82463\n",
            "Epoch 12/30\n",
            "63/63 [==============================] - 0s 2ms/step - loss: 0.0661 - accuracy: 0.8010 - val_loss: 0.0631 - val_accuracy: 0.8134\n",
            "\n",
            "Epoch 00012: val_accuracy did not improve from 0.82463\n"
          ]
        }
      ],
      "source": [
        "# Build the model\n",
        "model = mlp_model()\n",
        "#This callback allows you to specify the performance measure to monitor, the trigger, and once triggered, it will stop the training process\n",
        "#will help to stop \"overfitting the model\"\n",
        "#The “monitor” allows you to specify the performance measure to monitor in order to end training\n",
        "# “mode” argument will need to be specified as whether the objective of the chosen metric is to increase (maximize or ‘max‘) or to decrease (minimize or ‘min‘).\n",
        "# Patience delays the trigger where we dont see in improvement during epochs\n",
        "early_stopping = EarlyStopping(monitor='loss', patience=10, min_delta=0.01, mode='auto')\n",
        "\n",
        "# Fit the model using the training data and the outcome which is Y_train from above\n",
        "# We give the model 30 epochs, this is how many times to iterate, batch size of 10\n",
        "# This divides that data into 10 batches and process each in parallel. Verbose logs the output\n",
        "history = model.fit(X_train, Y_train, validation_data=(X_test, Y_test), epochs=30, batch_size=10, verbose=1, callbacks=[early_stopping])\n"
      ]
    },
    {
      "cell_type": "markdown",
      "metadata": {
        "id": "gOhT1n1eTOd4"
      },
      "source": [
        "# Exploration of Results"
      ]
    },
    {
      "cell_type": "code",
      "execution_count": 913,
      "metadata": {
        "colab": {
          "base_uri": "https://localhost:8080/",
          "height": 665
        },
        "id": "9u10cNPfiRB8",
        "outputId": "2e6eb810-dc2e-43e0-849e-6e3251492237"
      },
      "outputs": [
        {
          "data": {
            "text/html": [
              "<div>\n",
              "<style scoped>\n",
              "    .dataframe tbody tr th:only-of-type {\n",
              "        vertical-align: middle;\n",
              "    }\n",
              "\n",
              "    .dataframe tbody tr th {\n",
              "        vertical-align: top;\n",
              "    }\n",
              "\n",
              "    .dataframe thead th {\n",
              "        text-align: right;\n",
              "    }\n",
              "</style>\n",
              "<table border=\"1\" class=\"dataframe\">\n",
              "  <thead>\n",
              "    <tr style=\"text-align: right;\">\n",
              "      <th></th>\n",
              "      <th>PassengerId</th>\n",
              "      <th>Survived</th>\n",
              "      <th>Prediction</th>\n",
              "    </tr>\n",
              "  </thead>\n",
              "  <tbody>\n",
              "    <tr>\n",
              "      <th>0</th>\n",
              "      <td>1</td>\n",
              "      <td>0</td>\n",
              "      <td>0.078361</td>\n",
              "    </tr>\n",
              "    <tr>\n",
              "      <th>1</th>\n",
              "      <td>2</td>\n",
              "      <td>1</td>\n",
              "      <td>0.074964</td>\n",
              "    </tr>\n",
              "    <tr>\n",
              "      <th>2</th>\n",
              "      <td>3</td>\n",
              "      <td>1</td>\n",
              "      <td>0.079163</td>\n",
              "    </tr>\n",
              "    <tr>\n",
              "      <th>3</th>\n",
              "      <td>4</td>\n",
              "      <td>1</td>\n",
              "      <td>0.950659</td>\n",
              "    </tr>\n",
              "    <tr>\n",
              "      <th>4</th>\n",
              "      <td>5</td>\n",
              "      <td>0</td>\n",
              "      <td>0.475804</td>\n",
              "    </tr>\n",
              "    <tr>\n",
              "      <th>5</th>\n",
              "      <td>6</td>\n",
              "      <td>0</td>\n",
              "      <td>0.249226</td>\n",
              "    </tr>\n",
              "    <tr>\n",
              "      <th>6</th>\n",
              "      <td>7</td>\n",
              "      <td>0</td>\n",
              "      <td>0.948852</td>\n",
              "    </tr>\n",
              "    <tr>\n",
              "      <th>7</th>\n",
              "      <td>8</td>\n",
              "      <td>0</td>\n",
              "      <td>0.939389</td>\n",
              "    </tr>\n",
              "    <tr>\n",
              "      <th>8</th>\n",
              "      <td>9</td>\n",
              "      <td>1</td>\n",
              "      <td>0.309445</td>\n",
              "    </tr>\n",
              "    <tr>\n",
              "      <th>9</th>\n",
              "      <td>10</td>\n",
              "      <td>1</td>\n",
              "      <td>0.519436</td>\n",
              "    </tr>\n",
              "    <tr>\n",
              "      <th>10</th>\n",
              "      <td>11</td>\n",
              "      <td>1</td>\n",
              "      <td>0.064370</td>\n",
              "    </tr>\n",
              "    <tr>\n",
              "      <th>11</th>\n",
              "      <td>12</td>\n",
              "      <td>1</td>\n",
              "      <td>0.859444</td>\n",
              "    </tr>\n",
              "    <tr>\n",
              "      <th>12</th>\n",
              "      <td>13</td>\n",
              "      <td>0</td>\n",
              "      <td>0.085692</td>\n",
              "    </tr>\n",
              "    <tr>\n",
              "      <th>13</th>\n",
              "      <td>14</td>\n",
              "      <td>0</td>\n",
              "      <td>0.885030</td>\n",
              "    </tr>\n",
              "    <tr>\n",
              "      <th>14</th>\n",
              "      <td>15</td>\n",
              "      <td>0</td>\n",
              "      <td>0.950887</td>\n",
              "    </tr>\n",
              "    <tr>\n",
              "      <th>15</th>\n",
              "      <td>16</td>\n",
              "      <td>1</td>\n",
              "      <td>0.749426</td>\n",
              "    </tr>\n",
              "    <tr>\n",
              "      <th>16</th>\n",
              "      <td>17</td>\n",
              "      <td>0</td>\n",
              "      <td>0.093830</td>\n",
              "    </tr>\n",
              "    <tr>\n",
              "      <th>17</th>\n",
              "      <td>18</td>\n",
              "      <td>1</td>\n",
              "      <td>0.164863</td>\n",
              "    </tr>\n",
              "    <tr>\n",
              "      <th>18</th>\n",
              "      <td>19</td>\n",
              "      <td>0</td>\n",
              "      <td>0.067729</td>\n",
              "    </tr>\n",
              "    <tr>\n",
              "      <th>19</th>\n",
              "      <td>20</td>\n",
              "      <td>1</td>\n",
              "      <td>0.296145</td>\n",
              "    </tr>\n",
              "  </tbody>\n",
              "</table>\n",
              "</div>"
            ],
            "text/plain": [
              "    PassengerId  Survived  Prediction\n",
              "0             1         0    0.078361\n",
              "1             2         1    0.074964\n",
              "2             3         1    0.079163\n",
              "3             4         1    0.950659\n",
              "4             5         0    0.475804\n",
              "5             6         0    0.249226\n",
              "6             7         0    0.948852\n",
              "7             8         0    0.939389\n",
              "8             9         1    0.309445\n",
              "9            10         1    0.519436\n",
              "10           11         1    0.064370\n",
              "11           12         1    0.859444\n",
              "12           13         0    0.085692\n",
              "13           14         0    0.885030\n",
              "14           15         0    0.950887\n",
              "15           16         1    0.749426\n",
              "16           17         0    0.093830\n",
              "17           18         1    0.164863\n",
              "18           19         0    0.067729\n",
              "19           20         1    0.296145"
            ]
          },
          "execution_count": 913,
          "metadata": {},
          "output_type": "execute_result"
        }
      ],
      "source": [
        "# Calculate predictions test dataset\n",
        "PredTestSet = model.predict(X_test).tolist()\n",
        "\n",
        "# list to series\n",
        "se = pd.Series(PredTestSet)\n",
        "\n",
        "# creating new column of predictions in data_check dataframe\n",
        "data_check['Prediction'] = se\n",
        "data_check['Prediction'] = data_check['Prediction'].str.get(0)\n",
        "# Inspect first 20 predictions\n",
        "data_check.head(20)"
      ]
    },
    {
      "cell_type": "code",
      "execution_count": 914,
      "metadata": {
        "colab": {
          "base_uri": "https://localhost:8080/",
          "height": 665
        },
        "id": "my1vnMierv4n",
        "outputId": "96f466df-0cf4-40ea-d363-cb50186addf2"
      },
      "outputs": [
        {
          "data": {
            "text/html": [
              "<div>\n",
              "<style scoped>\n",
              "    .dataframe tbody tr th:only-of-type {\n",
              "        vertical-align: middle;\n",
              "    }\n",
              "\n",
              "    .dataframe tbody tr th {\n",
              "        vertical-align: top;\n",
              "    }\n",
              "\n",
              "    .dataframe thead th {\n",
              "        text-align: right;\n",
              "    }\n",
              "</style>\n",
              "<table border=\"1\" class=\"dataframe\">\n",
              "  <thead>\n",
              "    <tr style=\"text-align: right;\">\n",
              "      <th></th>\n",
              "      <th>PassengerId</th>\n",
              "      <th>Survived</th>\n",
              "      <th>Prediction</th>\n",
              "      <th>SurvivedResult</th>\n",
              "    </tr>\n",
              "  </thead>\n",
              "  <tbody>\n",
              "    <tr>\n",
              "      <th>0</th>\n",
              "      <td>1</td>\n",
              "      <td>0</td>\n",
              "      <td>0.078361</td>\n",
              "      <td>0</td>\n",
              "    </tr>\n",
              "    <tr>\n",
              "      <th>1</th>\n",
              "      <td>2</td>\n",
              "      <td>1</td>\n",
              "      <td>0.074964</td>\n",
              "      <td>0</td>\n",
              "    </tr>\n",
              "    <tr>\n",
              "      <th>2</th>\n",
              "      <td>3</td>\n",
              "      <td>1</td>\n",
              "      <td>0.079163</td>\n",
              "      <td>0</td>\n",
              "    </tr>\n",
              "    <tr>\n",
              "      <th>3</th>\n",
              "      <td>4</td>\n",
              "      <td>1</td>\n",
              "      <td>0.950659</td>\n",
              "      <td>1</td>\n",
              "    </tr>\n",
              "    <tr>\n",
              "      <th>4</th>\n",
              "      <td>5</td>\n",
              "      <td>0</td>\n",
              "      <td>0.475804</td>\n",
              "      <td>0</td>\n",
              "    </tr>\n",
              "    <tr>\n",
              "      <th>5</th>\n",
              "      <td>6</td>\n",
              "      <td>0</td>\n",
              "      <td>0.249226</td>\n",
              "      <td>0</td>\n",
              "    </tr>\n",
              "    <tr>\n",
              "      <th>6</th>\n",
              "      <td>7</td>\n",
              "      <td>0</td>\n",
              "      <td>0.948852</td>\n",
              "      <td>1</td>\n",
              "    </tr>\n",
              "    <tr>\n",
              "      <th>7</th>\n",
              "      <td>8</td>\n",
              "      <td>0</td>\n",
              "      <td>0.939389</td>\n",
              "      <td>1</td>\n",
              "    </tr>\n",
              "    <tr>\n",
              "      <th>8</th>\n",
              "      <td>9</td>\n",
              "      <td>1</td>\n",
              "      <td>0.309445</td>\n",
              "      <td>0</td>\n",
              "    </tr>\n",
              "    <tr>\n",
              "      <th>9</th>\n",
              "      <td>10</td>\n",
              "      <td>1</td>\n",
              "      <td>0.519436</td>\n",
              "      <td>1</td>\n",
              "    </tr>\n",
              "    <tr>\n",
              "      <th>10</th>\n",
              "      <td>11</td>\n",
              "      <td>1</td>\n",
              "      <td>0.064370</td>\n",
              "      <td>0</td>\n",
              "    </tr>\n",
              "    <tr>\n",
              "      <th>11</th>\n",
              "      <td>12</td>\n",
              "      <td>1</td>\n",
              "      <td>0.859444</td>\n",
              "      <td>1</td>\n",
              "    </tr>\n",
              "    <tr>\n",
              "      <th>12</th>\n",
              "      <td>13</td>\n",
              "      <td>0</td>\n",
              "      <td>0.085692</td>\n",
              "      <td>0</td>\n",
              "    </tr>\n",
              "    <tr>\n",
              "      <th>13</th>\n",
              "      <td>14</td>\n",
              "      <td>0</td>\n",
              "      <td>0.885030</td>\n",
              "      <td>1</td>\n",
              "    </tr>\n",
              "    <tr>\n",
              "      <th>14</th>\n",
              "      <td>15</td>\n",
              "      <td>0</td>\n",
              "      <td>0.950887</td>\n",
              "      <td>1</td>\n",
              "    </tr>\n",
              "    <tr>\n",
              "      <th>15</th>\n",
              "      <td>16</td>\n",
              "      <td>1</td>\n",
              "      <td>0.749426</td>\n",
              "      <td>1</td>\n",
              "    </tr>\n",
              "    <tr>\n",
              "      <th>16</th>\n",
              "      <td>17</td>\n",
              "      <td>0</td>\n",
              "      <td>0.093830</td>\n",
              "      <td>0</td>\n",
              "    </tr>\n",
              "    <tr>\n",
              "      <th>17</th>\n",
              "      <td>18</td>\n",
              "      <td>1</td>\n",
              "      <td>0.164863</td>\n",
              "      <td>0</td>\n",
              "    </tr>\n",
              "    <tr>\n",
              "      <th>18</th>\n",
              "      <td>19</td>\n",
              "      <td>0</td>\n",
              "      <td>0.067729</td>\n",
              "      <td>0</td>\n",
              "    </tr>\n",
              "    <tr>\n",
              "      <th>19</th>\n",
              "      <td>20</td>\n",
              "      <td>1</td>\n",
              "      <td>0.296145</td>\n",
              "      <td>0</td>\n",
              "    </tr>\n",
              "  </tbody>\n",
              "</table>\n",
              "</div>"
            ],
            "text/plain": [
              "    PassengerId  Survived  Prediction  SurvivedResult\n",
              "0             1         0    0.078361               0\n",
              "1             2         1    0.074964               0\n",
              "2             3         1    0.079163               0\n",
              "3             4         1    0.950659               1\n",
              "4             5         0    0.475804               0\n",
              "5             6         0    0.249226               0\n",
              "6             7         0    0.948852               1\n",
              "7             8         0    0.939389               1\n",
              "8             9         1    0.309445               0\n",
              "9            10         1    0.519436               1\n",
              "10           11         1    0.064370               0\n",
              "11           12         1    0.859444               1\n",
              "12           13         0    0.085692               0\n",
              "13           14         0    0.885030               1\n",
              "14           15         0    0.950887               1\n",
              "15           16         1    0.749426               1\n",
              "16           17         0    0.093830               0\n",
              "17           18         1    0.164863               0\n",
              "18           19         0    0.067729               0\n",
              "19           20         1    0.296145               0"
            ]
          },
          "execution_count": 914,
          "metadata": {},
          "output_type": "execute_result"
        }
      ],
      "source": [
        "# Survived is from the actual data set....final is from our mlp model making predictions\n",
        "# We use this method to decide if person survived or not\n",
        "# Equal or above to 0.5 means person survived\n",
        "series = []\n",
        "for val in data_check.Prediction:\n",
        "    if val >= 0.5:\n",
        "        series.append(1)\n",
        "    else:\n",
        "        series.append(0)\n",
        "# Store the prediction in result\n",
        "data_check['SurvivedResult'] = series\n",
        "# Inspect the data again\n",
        "data_check.head(20)"
      ]
    },
    {
      "cell_type": "code",
      "execution_count": 915,
      "metadata": {
        "colab": {
          "base_uri": "https://localhost:8080/"
        },
        "id": "EdNt5yHTPmqT",
        "outputId": "e8649ebd-1087-4594-c345-e373e097203a"
      },
      "outputs": [
        {
          "name": "stdout",
          "output_type": "stream",
          "text": [
            "Survived : 68\n",
            "Didn't survive:  823\n"
          ]
        }
      ],
      "source": [
        "# This shows the number of survived vs did not survive\n",
        "\n",
        "surived = 0\n",
        "surivednot = 0\n",
        "for val in data_check['SurvivedResult']:\n",
        "    if val == 1 :\n",
        "        surived = surived +1\n",
        "    else:\n",
        "        surivednot = surivednot +1\n",
        "        \n",
        "print(\"Survived :\" ,surived)\n",
        "print(\"Didn't survive: \" , surivednot)"
      ]
    },
    {
      "cell_type": "code",
      "execution_count": 916,
      "metadata": {
        "colab": {
          "base_uri": "https://localhost:8080/"
        },
        "id": "E9jqKgzUr3s-",
        "outputId": "61f10ec9-9335-435a-c482-74d6d26eef51"
      },
      "outputs": [
        {
          "name": "stdout",
          "output_type": "stream",
          "text": [
            "Matched : 531\n",
            "Didn't match:  360\n"
          ]
        }
      ],
      "source": [
        "# This shows the acccuracy\n",
        "match = 0\n",
        "nomatch = 0\n",
        "for val in data_check.values:\n",
        "    if val[1] == val[3]:\n",
        "        match = match +1\n",
        "    else:\n",
        "        nomatch = nomatch +1\n",
        "\n",
        "print(\"Matched :\" ,match)\n",
        "print(\"Didn't match: \" , nomatch)"
      ]
    },
    {
      "cell_type": "code",
      "execution_count": 917,
      "metadata": {
        "colab": {
          "base_uri": "https://localhost:8080/"
        },
        "id": "vRNsSZcglZNp",
        "outputId": "b62a7a86-dd48-4c70-e493-236923c7156f"
      },
      "outputs": [
        {
          "name": "stdout",
          "output_type": "stream",
          "text": [
            "9/9 [==============================] - 0s 2ms/step - loss: 0.0631 - accuracy: 0.8134\n",
            "The accuracy is : % 81.34328126907349\n",
            "The loss is : % 6.310286372900009\n"
          ]
        }
      ],
      "source": [
        "# We evalute the Accuracy and the loss function of the model\n",
        "score = model.evaluate(X_test, Y_test,verbose=1)\n",
        "print(\"The accuracy is : %\" , score[1] * 100)\n",
        "print(\"The loss is : %\" , score[0] * 100)"
      ]
    },
    {
      "cell_type": "code",
      "execution_count": 918,
      "metadata": {
        "colab": {
          "base_uri": "https://localhost:8080/",
          "height": 265
        },
        "id": "L7DJZoCxhuXl",
        "outputId": "abae2d32-35a9-4f03-dbe3-1dd5aee35406"
      },
      "outputs": [
        {
          "data": {
            "image/png": "[encoded data removed]",
            "text/plain": [
              "<Figure size 432x288 with 1 Axes>"
            ]
          },
          "metadata": {
            "needs_background": "light"
          },
          "output_type": "display_data"
        }
      ],
      "source": [
        "# Plot training history loss\n",
        "plt.plot(history.history['loss'], label='train')\n",
        "plt.plot(history.history['val_loss'], label='test')\n",
        "plt.legend()\n",
        "plt.show()"
      ]
    },
    {
      "cell_type": "code",
      "execution_count": 919,
      "metadata": {
        "colab": {
          "base_uri": "https://localhost:8080/",
          "height": 265
        },
        "id": "SvT5cJIlQgbE",
        "outputId": "9103c5a9-9747-4893-e3a3-320a52b3159b"
      },
      "outputs": [
        {
          "data": {
            "image/png": "[encoded data removed]",
            "text/plain": [
              "<Figure size 432x288 with 1 Axes>"
            ]
          },
          "metadata": {
            "needs_background": "light"
          },
          "output_type": "display_data"
        }
      ],
      "source": [
        "# Plot training history accuracy\n",
        "plt.plot(history.history['accuracy'], label='train')\n",
        "plt.plot(history.history['val_accuracy'], label='test')\n",
        "plt.legend()\n",
        "plt.show()"
      ]
    },
    {
      "cell_type": "code",
      "execution_count": 920,
      "metadata": {
        "colab": {
          "base_uri": "https://localhost:8080/",
          "height": 351
        },
        "id": "9U9jeG_-IT1R",
        "outputId": "52f600e5-675f-40c8-f204-e1334b074c7f"
      },
      "outputs": [
        {
          "data": {
            "text/plain": [
              "<matplotlib.axes._subplots.AxesSubplot at 0x7ff278d286d0>"
            ]
          },
          "execution_count": 920,
          "metadata": {},
          "output_type": "execute_result"
        },
        {
          "data": {
            "image/png": "[encoded data removed]",
            "text/plain": [
              "<Figure size 576x360 with 1 Axes>"
            ]
          },
          "metadata": {
            "needs_background": "light"
          },
          "output_type": "display_data"
        }
      ],
      "source": [
        "# Survival Rate plotted of the predicted values\n",
        "plt.figure(figsize=(8,5))\n",
        "sns.countplot(x='SurvivedResult', data=data_check)"
      ]
    },
    {
      "cell_type": "code",
      "execution_count": 921,
      "metadata": {
        "colab": {
          "base_uri": "https://localhost:8080/",
          "height": 351
        },
        "id": "kpwv7FL_IbdD",
        "outputId": "6af1bcee-5e71-4acc-c4b0-4819eeda9f1a"
      },
      "outputs": [
        {
          "data": {
            "text/plain": [
              "<matplotlib.axes._subplots.AxesSubplot at 0x7ff278d2d510>"
            ]
          },
          "execution_count": 921,
          "metadata": {},
          "output_type": "execute_result"
        },
        {
          "data": {
            "image/png": "[encoded data removed]",
            "text/plain": [
              "<Figure size 576x360 with 1 Axes>"
            ]
          },
          "metadata": {
            "needs_background": "light"
          },
          "output_type": "display_data"
        }
      ],
      "source": [
        "# Compared to survival rate plotted of the actual survival rates\n",
        "plt.figure(figsize=(8,5))\n",
        "sns.countplot(x='Survived', data= train_data)"
      ]
    },
    {
      "cell_type": "code",
      "execution_count": 922,
      "metadata": {
        "colab": {
          "base_uri": "https://localhost:8080/",
          "height": 203
        },
        "id": "voOzmsBojU31",
        "outputId": "4d763728-4530-4c1e-ef65-868fb1dde871"
      },
      "outputs": [
        {
          "data": {
            "text/html": [
              "<div>\n",
              "<style scoped>\n",
              "    .dataframe tbody tr th:only-of-type {\n",
              "        vertical-align: middle;\n",
              "    }\n",
              "\n",
              "    .dataframe tbody tr th {\n",
              "        vertical-align: top;\n",
              "    }\n",
              "\n",
              "    .dataframe thead th {\n",
              "        text-align: right;\n",
              "    }\n",
              "</style>\n",
              "<table border=\"1\" class=\"dataframe\">\n",
              "  <thead>\n",
              "    <tr style=\"text-align: right;\">\n",
              "      <th></th>\n",
              "      <th>PassengerId</th>\n",
              "      <th>Survived_x</th>\n",
              "      <th>Prediction</th>\n",
              "      <th>SurvivedResult</th>\n",
              "      <th>Survived_y</th>\n",
              "      <th>Pclass</th>\n",
              "      <th>Sex</th>\n",
              "      <th>Age</th>\n",
              "      <th>SibSp</th>\n",
              "      <th>Parch</th>\n",
              "    </tr>\n",
              "  </thead>\n",
              "  <tbody>\n",
              "    <tr>\n",
              "      <th>0</th>\n",
              "      <td>1</td>\n",
              "      <td>0</td>\n",
              "      <td>0.078361</td>\n",
              "      <td>0</td>\n",
              "      <td>0</td>\n",
              "      <td>3</td>\n",
              "      <td>0</td>\n",
              "      <td>22.0</td>\n",
              "      <td>1</td>\n",
              "      <td>0</td>\n",
              "    </tr>\n",
              "    <tr>\n",
              "      <th>1</th>\n",
              "      <td>2</td>\n",
              "      <td>1</td>\n",
              "      <td>0.074964</td>\n",
              "      <td>0</td>\n",
              "      <td>1</td>\n",
              "      <td>1</td>\n",
              "      <td>1</td>\n",
              "      <td>38.0</td>\n",
              "      <td>1</td>\n",
              "      <td>0</td>\n",
              "    </tr>\n",
              "    <tr>\n",
              "      <th>2</th>\n",
              "      <td>3</td>\n",
              "      <td>1</td>\n",
              "      <td>0.079163</td>\n",
              "      <td>0</td>\n",
              "      <td>1</td>\n",
              "      <td>3</td>\n",
              "      <td>1</td>\n",
              "      <td>26.0</td>\n",
              "      <td>0</td>\n",
              "      <td>0</td>\n",
              "    </tr>\n",
              "    <tr>\n",
              "      <th>3</th>\n",
              "      <td>4</td>\n",
              "      <td>1</td>\n",
              "      <td>0.950659</td>\n",
              "      <td>1</td>\n",
              "      <td>1</td>\n",
              "      <td>1</td>\n",
              "      <td>1</td>\n",
              "      <td>35.0</td>\n",
              "      <td>1</td>\n",
              "      <td>0</td>\n",
              "    </tr>\n",
              "    <tr>\n",
              "      <th>4</th>\n",
              "      <td>5</td>\n",
              "      <td>0</td>\n",
              "      <td>0.475804</td>\n",
              "      <td>0</td>\n",
              "      <td>0</td>\n",
              "      <td>3</td>\n",
              "      <td>0</td>\n",
              "      <td>35.0</td>\n",
              "      <td>0</td>\n",
              "      <td>0</td>\n",
              "    </tr>\n",
              "  </tbody>\n",
              "</table>\n",
              "</div>"
            ],
            "text/plain": [
              "   PassengerId  Survived_x  Prediction  SurvivedResult  ...  Sex   Age  SibSp  Parch\n",
              "0            1           0    0.078361               0  ...    0  22.0      1      0\n",
              "1            2           1    0.074964               0  ...    1  38.0      1      0\n",
              "2            3           1    0.079163               0  ...    1  26.0      0      0\n",
              "3            4           1    0.950659               1  ...    1  35.0      1      0\n",
              "4            5           0    0.475804               0  ...    0  35.0      0      0\n",
              "\n",
              "[5 rows x 10 columns]"
            ]
          },
          "execution_count": 922,
          "metadata": {},
          "output_type": "execute_result"
        }
      ],
      "source": [
        "\n",
        "# # data_check = data_check.drop(['Survived'], axis=1)\n",
        "results = pd.merge(data_check, train_data, on='PassengerId')\n",
        "results.head()"
      ]
    },
    {
      "cell_type": "code",
      "execution_count": 923,
      "metadata": {
        "colab": {
          "base_uri": "https://localhost:8080/",
          "height": 351
        },
        "id": "upR5UC8LoLRN",
        "outputId": "9a6369fe-442a-4e87-ae0a-db878dae93b9"
      },
      "outputs": [
        {
          "data": {
            "text/plain": [
              "<matplotlib.axes._subplots.AxesSubplot at 0x7ff278ca3810>"
            ]
          },
          "execution_count": 923,
          "metadata": {},
          "output_type": "execute_result"
        },
        {
          "data": {
            "image/png": "[encoded data removed]",
            "text/plain": [
              "<Figure size 576x360 with 1 Axes>"
            ]
          },
          "metadata": {
            "needs_background": "light"
          },
          "output_type": "display_data"
        }
      ],
      "source": [
        "# We then plot the survival rate of men and women using the predicted model\n",
        "# Where 0 is a man and 1 is woman\n",
        "plt.figure(figsize=(8,5))\n",
        "sns.countplot(x='SurvivedResult', hue='Sex', data= results)"
      ]
    },
    {
      "cell_type": "code",
      "execution_count": 924,
      "metadata": {
        "colab": {
          "base_uri": "https://localhost:8080/",
          "height": 351
        },
        "id": "FxkhhqzAP1HU",
        "outputId": "8492a362-a613-46f6-e5bb-2d08da8576b7"
      },
      "outputs": [
        {
          "data": {
            "text/plain": [
              "<matplotlib.axes._subplots.AxesSubplot at 0x7ff278badb10>"
            ]
          },
          "execution_count": 924,
          "metadata": {},
          "output_type": "execute_result"
        },
        {
          "data": {
            "image/png": "[encoded data removed]",
            "text/plain": [
              "<Figure size 576x360 with 1 Axes>"
            ]
          },
          "metadata": {
            "needs_background": "light"
          },
          "output_type": "display_data"
        }
      ],
      "source": [
        "# We then plot the survival rate of men and women in the different passenger classes\n",
        "plt.figure(figsize=(8,5))\n",
        "sns.countplot(x='SurvivedResult', hue='Pclass', data= results)"
      ]
    },
    {
      "cell_type": "code",
      "execution_count": 925,
      "metadata": {
        "colab": {
          "base_uri": "https://localhost:8080/",
          "height": 473
        },
        "id": "_tu0cbsPQzI4",
        "outputId": "43a6bab8-a24a-43e0-c218-784a4698a65b"
      },
      "outputs": [
        {
          "name": "stderr",
          "output_type": "stream",
          "text": [
            "/usr/local/lib/python3.7/dist-packages/seaborn/categorical.py:3717: UserWarning: The `factorplot` function has been renamed to `catplot`. The original name will be removed in a future release. Please update your code. Note that the default `kind` in `factorplot` (`'point'`) has changed `'strip'` in `catplot`.\n",
            "  warnings.warn(msg)\n",
            "/usr/local/lib/python3.7/dist-packages/seaborn/_decorators.py:43: FutureWarning: Pass the following variables as keyword args: x, y. From version 0.12, the only valid positional argument will be `data`, and passing other arguments without an explicit keyword will result in an error or misinterpretation.\n",
            "  FutureWarning\n"
          ]
        },
        {
          "data": {
            "text/plain": [
              "<seaborn.axisgrid.FacetGrid at 0x7ff278be2950>"
            ]
          },
          "execution_count": 925,
          "metadata": {},
          "output_type": "execute_result"
        },
        {
          "data": {
            "image/png": "[encoded data removed]",
            "text/plain": [
              "<Figure size 402.375x360 with 1 Axes>"
            ]
          },
          "metadata": {
            "needs_background": "light"
          },
          "output_type": "display_data"
        }
      ],
      "source": [
        "# Plots the survival of male, female and child out of the different passenger classes\n",
        "sns.factorplot('Pclass','SurvivedResult', data=results, hue='Sex')"
      ]
    },
    {
      "cell_type": "code",
      "execution_count": 926,
      "metadata": {
        "colab": {
          "base_uri": "https://localhost:8080/"
        },
        "id": "BfupdazUHqfQ",
        "outputId": "ab873be1-8c3a-4c23-d8e7-53b4ae482272"
      },
      "outputs": [
        {
          "name": "stdout",
          "output_type": "stream",
          "text": [
            "Accuracy: 0.824627\n",
            "Recall: 0.620000\n",
            "Precision: 0.873239\n",
            "Confusion Matrix : \n",
            " [[159   9]\n",
            " [ 38  62]]\n"
          ]
        }
      ],
      "source": [
        "# Gradient Boosting is an Ensemble Learning method.\n",
        "gbc = GradientBoostingClassifier()\n",
        "# Fit the training data to gbc\n",
        "gbc.fit(X_train, Y_train)\n",
        "# Predict the data for the test data\n",
        "y_pred = gbc.predict(X_test)\n",
        "# Accuracy is got from sklearn metrics using y_pred and test data\n",
        "accuracy = accuracy_score(Y_test,y_pred)\n",
        "print('Accuracy: %f' % accuracy)\n",
        "# Recall is got from sklearn metrics using y_pred and test data\n",
        "recall = recall_score(Y_test,y_pred)\n",
        "print('Recall: %f' % recall)\n",
        "# Precision is got from sklearn metrics using y_pred and test data\n",
        "precision = precision_score(Y_test,y_pred)\n",
        "print('Precision: %f' % precision)\n",
        "# Matrix is got from sklearn metrics using y_pred and test data\n",
        "matrix = confusion_matrix(Y_test,y_pred)\n",
        "print(\"Confusion Matrix : \\n\" , matrix)"
      ]
    }
  ],
  "metadata": {
    "colab": {
      "collapsed_sections": [],
      "name": "CS4287-Prj1-18257305-18237398.ipynb",
      "provenance": []
    },
    "kernelspec": {
      "display_name": "Python 3",
      "name": "python3"
    },
    "language_info": {
      "name": "python"
    }
  },
  "nbformat": 4,
  "nbformat_minor": 0
}
